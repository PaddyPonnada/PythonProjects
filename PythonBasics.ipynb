{
 "cells": [
  {
   "cell_type": "markdown",
   "metadata": {},
   "source": [
    "Python language basics: \n",
    "  Datatypes: Integer, Float, Bool\n",
    "  Containers: String, List, Set, Tuple, Dictionary"
   ]
  },
  {
   "cell_type": "code",
   "execution_count": 24,
   "metadata": {},
   "outputs": [
    {
     "name": "stdout",
     "output_type": "stream",
     "text": [
      "Integers: Positive --> int1: 20\n",
      "Integers: Negative --> int2: -30\n",
      "Integers: Long --> int3: 293803999983938893893983\n",
      "Floats: Positive --> float1: 20.38\n",
      "Floats: Long Negative --> float2: -3939939383.3333387\n",
      "Floats: Exponent --> float3: -356000000.0\n",
      "Addition --> int1 + int2: -10\n",
      "Subtraction --> int1 - int3: -293803999983938893893963\n",
      "Multiplication --> int1 * int3: 5876079999678777877879660\n",
      "Decimal Division --> int1 / int2: -0.6666666666666666\n",
      "Floor Division --> int2 // int1: -2\n",
      "Remainder --> int1 % int2: -10\n",
      "Integer Powers --> int1 ** 2: 400\n",
      "Fractional Powers: Roots --> int1 ** 0.5: 4.47213595499958\n",
      "Pemdas: 2 * 3 + 10 / 5 - 20 * 2 --> -32.0\n",
      "Pemdas: (2 * 3 + 10) / 5 - 20 * 2 --> -36.8\n",
      "50\n",
      "125000\n"
     ]
    }
   ],
   "source": [
    "# 1. Data types & Basic Operations \n",
    "# (1) integers\n",
    "int1 = 20;                                    # integers - positive\n",
    "int2 = -30;                                   # integers - negative\n",
    "int3 = 293803999983938893893983               # integers - long\n",
    "\n",
    "print( \"Integers: Positive --> int1: \" + str(int1) ) \n",
    "print( \"Integers: Negative --> int2: \" + str(int2) )\n",
    "print( \"Integers: Long --> int3: \" + str(int3) )\n",
    "\n",
    "# (2) floats\n",
    "float1 = 20.38;                               # float - small positive\n",
    "float2 = -3939939383.3333389;                 # float - large negative\n",
    "float3 = -3.56E8                              # float - exponent\n",
    "\n",
    "print( \"Floats: Positive --> float1: \" + str(float1) ) \n",
    "print( \"Floats: Long Negative --> float2: \" + str(float2) )\n",
    "print( \"Floats: Exponent --> float3: \" + str(float3) )\n",
    "\n",
    "# (3) Operations on numbers\n",
    "print( \"Addition --> int1 + int2: \" + str(int1 + int2) )           # addition\n",
    "print( \"Subtraction --> int1 - int3: \" + str(int1 - int3) )        # subtraction\n",
    "print( \"Multiplication --> int1 * int3: \" + str(int1 * int3) )     # multiplication \n",
    "print( \"Decimal Division --> int1 / int2: \" + str(int1 / int2) )   # decimal division\n",
    "print( \"Floor Division --> int2 // int1: \" + str(int2 // int1) )   # floor division\n",
    "print( \"Remainder --> int1 % int2: \" + str(int1 % int2) )          # remainder\n",
    "print( \"Integer Powers --> int1 ** 2: \" + str(int1 ** 2) )         # integer powers\n",
    "print( \"Fractional Powers: Roots --> int1 ** 0.5: \" + str(int1 ** 0.5) ) # fractional integer powers\n",
    "print( \"Pemdas: 2 * 3 + 10 / 5 - 20 * 2 --> \" + str(2 * 3 + 10 / 5 - 20 * 2)) # Order of operations\n",
    "print( \"Pemdas: (2 * 3 + 10) / 5 - 20 * 2 --> \" + str((2 * 3 + 10) / 5 - 20 * 2)) # Order of operations\n",
    "\n",
    "# 2. Variables- Assignment & Reassignment\n",
    "# Reassignment operators: =, +=, -=, *=, /=, **= (power & reassign)\n",
    "int1 += 30; print(int1)\n",
    "int1 **= 3; print( int1 )\n",
    "# type(): int, float, str, list, tuple, dict, set, bool"
   ]
  },
  {
   "cell_type": "code",
   "execution_count": null,
   "metadata": {
    "collapsed": true
   },
   "outputs": [],
   "source": []
  },
  {
   "cell_type": "markdown",
   "metadata": {},
   "source": [
    "Python Strings are sequence of characcters"
   ]
  },
  {
   "cell_type": "code",
   "execution_count": 30,
   "metadata": {},
   "outputs": [
    {
     "name": "stdout",
     "output_type": "stream",
     "text": [
      "This is a string\n",
      "This is another string\n",
      "This string contains a single quote(') within the string\n",
      "This string contains a double quote(\"\") within the string\n",
      "This is the first line \n",
      "          This is the second line\n",
      "          and this is the third line of the multi-line string\n",
      "\n"
     ]
    }
   ],
   "source": [
    "# 3. Strings ~ Sequence of characters\n",
    "# (1) Creating & Print strings\n",
    "str1 = \"This is a string\"\n",
    "str2 = 'This is another string'\n",
    "str3 = \"This string contains a single quote(') within the string\"\n",
    "str4 = 'This string contains a double quote(\"\") within the string'\n",
    "str5 = \"\"\"This is the first line \n",
    "          This is the second line\n",
    "          and this is the third line of the multi-line string\"\"\"\n",
    "print(str1)\n",
    "print(str2)\n",
    "print(str3)\n",
    "print(str4)\n",
    "print(str5)\n",
    "# (2) String Indexing / Slicing / Dicing\n",
    "#    Indexing: starts at 0 & negative indexing means from the end\n",
    "#    Slicing format [start: end: step] --> end is not included\n",
    "print(str1[-1:-3])"
   ]
  }
 ],
 "metadata": {
  "kernelspec": {
   "display_name": "Python 3",
   "language": "python",
   "name": "python3"
  },
  "language_info": {
   "codemirror_mode": {
    "name": "ipython",
    "version": 3
   },
   "file_extension": ".py",
   "mimetype": "text/x-python",
   "name": "python",
   "nbconvert_exporter": "python",
   "pygments_lexer": "ipython3",
   "version": "3.6.3"
  }
 },
 "nbformat": 4,
 "nbformat_minor": 2
}
